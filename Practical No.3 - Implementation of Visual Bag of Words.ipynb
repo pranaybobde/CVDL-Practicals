{
  "nbformat": 4,
  "nbformat_minor": 0,
  "metadata": {
    "colab": {
      "name": "PR3_39_PranayBobde_CVDL.ipynb",
      "provenance": []
    },
    "kernelspec": {
      "name": "python3",
      "display_name": "Python 3"
    },
    "language_info": {
      "name": "python"
    }
  },
  "cells": [
    {
      "cell_type": "code",
      "execution_count": null,
      "metadata": {
        "colab": {
          "base_uri": "https://localhost:8080/"
        },
        "id": "ZoFZKhvYNJ37",
        "outputId": "b6352c31-9066-4d4e-cb37-8c22a7d81c2f"
      },
      "outputs": [
        {
          "output_type": "stream",
          "name": "stdout",
          "text": [
            "Mounted at /content/gdrive\n"
          ]
        }
      ],
      "source": [
        "from google.colab import drive\n",
        "drive.mount('/content/gdrive')"
      ]
    },
    {
      "cell_type": "code",
      "source": [
        "!ls='/content/gdrive/MyDrive/ColabNotebooks/PRANAY/Dataset/Dataset/train/'."
      ],
      "metadata": {
        "id": "lShTx9GqNpmc"
      },
      "execution_count": null,
      "outputs": []
    },
    {
      "cell_type": "code",
      "source": [
        "import cv2\n",
        "import numpy as np\n",
        "import os"
      ],
      "metadata": {
        "id": "GZzcaMgCN_0U"
      },
      "execution_count": null,
      "outputs": []
    },
    {
      "cell_type": "code",
      "source": [
        "train_path='/content/gdrive/MyDrive/ColabNotebooks/PRANAY/Dataset/Dataset/train/'#NamesareAeroplane,Bicycle,Car'\n",
        "#train_path='images/cell_images/train'#FolderNamesareParasitizedandUninfected\n",
        "training_names=os.listdir(train_path)"
      ],
      "metadata": {
        "id": "YIEbLUBrOCze"
      },
      "execution_count": null,
      "outputs": []
    },
    {
      "cell_type": "code",
      "source": [
        "image_paths=[]\n",
        "image_classes=[]\n",
        "class_id=0"
      ],
      "metadata": {
        "id": "rJJvuxEsOK8W"
      },
      "execution_count": null,
      "outputs": []
    },
    {
      "cell_type": "code",
      "source": [
        "def imglist(path):\n",
        "  return[os.path.join(path,f)for f in os.listdir(path)]"
      ],
      "metadata": {
        "id": "PxLCpAogRC59"
      },
      "execution_count": null,
      "outputs": []
    },
    {
      "cell_type": "code",
      "source": [
        "for training_name in training_names:\n",
        "  dir=os.path.join(train_path,training_name)\n",
        "  class_path=imglist(dir)\n",
        "  image_paths+=class_path\n",
        "  image_classes+=[class_id]*len(class_path)\n",
        "  class_id+=1"
      ],
      "metadata": {
        "id": "m4Tyzo9dRFtl"
      },
      "execution_count": null,
      "outputs": []
    },
    {
      "cell_type": "code",
      "source": [
        "des_list=[]"
      ],
      "metadata": {
        "id": "5Ps3diQvRPej"
      },
      "execution_count": null,
      "outputs": []
    },
    {
      "cell_type": "code",
      "source": [
        "brisk=cv2.BRISK_create(30)\n",
        "for image_path in image_paths:\n",
        "  im=cv2.imread(image_path)\n",
        "  kpts,des=brisk.detectAndCompute(im,None)\n",
        "  des_list.append((image_path,des))"
      ],
      "metadata": {
        "id": "Y0uJj8H8RP7A"
      },
      "execution_count": null,
      "outputs": []
    },
    {
      "cell_type": "code",
      "source": [
        "descriptors=des_list[0][1]\n",
        "for image_path, descriptor in des_list[1:]:\n",
        "  descriptors=np.vstack((descriptors,descriptor))"
      ],
      "metadata": {
        "id": "x7eAp1yjRTcr"
      },
      "execution_count": null,
      "outputs": []
    },
    {
      "cell_type": "code",
      "source": [
        "descriptors_float=descriptors.astype(float)"
      ],
      "metadata": {
        "id": "_FU8ZqrpRVxW"
      },
      "execution_count": null,
      "outputs": []
    },
    {
      "cell_type": "code",
      "source": [
        "from scipy.cluster.vq import kmeans, vq\n",
        "k=200#kmeanswith100clustersgivesloweraccuracyfortheaeroplaneexamplevoc,\n",
        "voc, variance=kmeans(descriptors_float,k,1)"
      ],
      "metadata": {
        "id": "oO3Hf6OyRYMD"
      },
      "execution_count": null,
      "outputs": []
    },
    {
      "cell_type": "code",
      "source": [
        "im_features=np.zeros((len(image_paths),k),\"float32\")\n",
        "for i in range(len(image_paths)):\n",
        "  words,distance=vq(des_list[i][1],voc)\n",
        "  for w in words:\n",
        "    im_features[i][w] += 1"
      ],
      "metadata": {
        "id": "E-hCDaQeRjRA"
      },
      "execution_count": null,
      "outputs": []
    },
    {
      "cell_type": "code",
      "source": [
        "  one_vec=im_features[0]\n",
        "  one_vec"
      ],
      "metadata": {
        "colab": {
          "base_uri": "https://localhost:8080/"
        },
        "id": "e1UqeXu41Hvh",
        "outputId": "3936f7cf-4e23-4d6c-c81a-d63c0d2c900f"
      },
      "execution_count": null,
      "outputs": [
        {
          "output_type": "execute_result",
          "data": {
            "text/plain": [
              "array([0., 0., 0., 0., 0., 0., 0., 0., 0., 0., 0., 0., 0., 0., 0., 0., 0.,\n",
              "       0., 0., 0., 1., 0., 0., 0., 0., 0., 0., 0., 0., 0., 0., 0., 0., 0.,\n",
              "       0., 0., 0., 0., 0., 0., 1., 0., 0., 0., 0., 0., 0., 0., 0., 0., 0.,\n",
              "       0., 0., 0., 0., 1., 0., 0., 0., 0., 0., 1., 0., 0., 0., 0., 0., 0.,\n",
              "       0., 1., 0., 0., 0., 0., 0., 0., 0., 0., 0., 0., 0., 0., 0., 0., 0.,\n",
              "       0., 0., 0., 0., 0., 0., 0., 0., 0., 0., 0., 1., 0., 0., 0., 0., 0.,\n",
              "       0., 0., 0., 0., 0., 0., 0., 0., 0., 0., 1., 0., 0., 1., 0., 0., 0.,\n",
              "       0., 0., 0., 0., 0., 0., 0., 0., 2., 0., 0., 0., 0., 0., 0., 0., 0.,\n",
              "       0., 0., 0., 0., 0., 0., 1., 0., 1., 0., 0., 0., 0., 0., 0., 0., 0.,\n",
              "       0., 0., 0., 0., 0., 0., 0., 2., 0., 0., 0., 0., 0., 0., 0., 0., 0.,\n",
              "       0., 0., 0., 0., 1., 0., 0., 2., 0., 0., 0., 0., 0., 0., 0., 0., 0.,\n",
              "       0., 0., 0., 0., 0., 0., 0., 1., 0., 0., 0., 0., 0.], dtype=float32)"
            ]
          },
          "metadata": {},
          "execution_count": 36
        }
      ]
    },
    {
      "cell_type": "code",
      "source": [
        "print(len(im_features))\n",
        "print(im_features)"
      ],
      "metadata": {
        "colab": {
          "base_uri": "https://localhost:8080/"
        },
        "id": "kVyguS8K1IsB",
        "outputId": "708307c3-77a1-4315-d698-1758f8880296"
      },
      "execution_count": null,
      "outputs": [
        {
          "output_type": "stream",
          "name": "stdout",
          "text": [
            "20\n",
            "[[0. 0. 0. ... 0. 0. 0.]\n",
            " [0. 0. 0. ... 0. 0. 0.]\n",
            " [0. 0. 0. ... 0. 1. 1.]\n",
            " ...\n",
            " [1. 0. 0. ... 0. 0. 0.]\n",
            " [1. 0. 0. ... 0. 0. 0.]\n",
            " [0. 0. 0. ... 0. 0. 0.]]\n"
          ]
        }
      ]
    },
    {
      "cell_type": "code",
      "source": [
        "from matplotlib import pyplot as plt"
      ],
      "metadata": {
        "id": "UnuQ6KN_RofZ"
      },
      "execution_count": null,
      "outputs": []
    },
    {
      "cell_type": "code",
      "source": [
        "#Creatinghistogram\n",
        "fig,ax=plt.subplots(figsize=(7,3))\n",
        "ax.hist(one_vec)\n",
        "plt.title(\"HistogramforBagsofVisualwords\")\n",
        "#Showplot\n",
        "plt.show()"
      ],
      "metadata": {
        "id": "MTTqKtJGRpHg",
        "outputId": "866ad055-5d79-4f80-f008-26ff9aaaa225",
        "colab": {
          "base_uri": "https://localhost:8080/",
          "height": 227
        }
      },
      "execution_count": null,
      "outputs": [
        {
          "output_type": "display_data",
          "data": {
            "text/plain": [
              "<Figure size 504x216 with 1 Axes>"
            ],
            "image/png": "[encoded data removed]"
          },
          "metadata": {
            "needs_background": "light"
          }
        }
      ]
    },
    {
      "cell_type": "code",
      "source": [
        ""
      ],
      "metadata": {
        "id": "I_Xo_MlZRtxV"
      },
      "execution_count": null,
      "outputs": []
    }
  ]
}