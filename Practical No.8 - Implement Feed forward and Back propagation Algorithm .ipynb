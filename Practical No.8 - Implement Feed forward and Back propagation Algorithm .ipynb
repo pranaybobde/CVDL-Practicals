{
  "nbformat": 4,
  "nbformat_minor": 0,
  "metadata": {
    "colab": {
      "name": "PR8_39_PranayBobde_CVDL.ipynb",
      "provenance": []
    },
    "kernelspec": {
      "name": "python3",
      "display_name": "Python 3"
    },
    "language_info": {
      "name": "python"
    }
  },
  "cells": [
    {
      "cell_type": "markdown",
      "source": [
        "**Practical No.8 :-**"
      ],
      "metadata": {
        "id": "IapJMRIeRFUC"
      }
    },
    {
      "cell_type": "markdown",
      "source": [
        "**Aim :-Implement Feed forward and Back propagation Algorithm**"
      ],
      "metadata": {
        "id": "-JR6IKaSRJ3E"
      }
    },
    {
      "cell_type": "code",
      "execution_count": null,
      "metadata": {
        "colab": {
          "base_uri": "https://localhost:8080/"
        },
        "id": "PJwxyQqyQ8QQ",
        "outputId": "8f2e9bd7-ff79-4654-e57a-c3e9e9ecbb98"
      },
      "outputs": [
        {
          "output_type": "stream",
          "name": "stdout",
          "text": [
            "Loss: 0.08174404065767808\n",
            "Loss: 0.00039667396345150055\n",
            "Loss: 0.0003789923767308985\n",
            "Loss: 0.0003631456925653118\n",
            "Loss: 0.0003487833481652499\n",
            "Loss: 0.00033572769591397\n",
            "Loss: 0.0003238259629614559\n",
            "Loss: 0.00031294638322857077\n",
            "Loss: 0.00030297495952065414\n",
            "Loss: 0.0002938127622745523\n",
            "Input: [[0.66666667 1.        ]\n",
            " [0.33333333 0.55555556]\n",
            " [1.         0.66666667]]\n",
            "Actual Output: [[0.92]\n",
            " [0.86]\n",
            " [0.89]]\n",
            "Loss: 0.00028537367384844027\n",
            "\n",
            "\n",
            "Predicted Output: [[0.89895089]\n",
            " [0.86317317]\n",
            " [0.91007453]]\n"
          ]
        }
      ],
      "source": [
        "import numpy as np\n",
        "# X = (hours sleeping, hours studying), y = test score of the student\n",
        "X = np.array(([2, 9], [1, 5], [3, 6]), dtype=float)\n",
        "y = np.array(([92], [86], [89]), dtype=float)\n",
        "\n",
        "# scale units\n",
        "X = X/np.amax(X, axis=0) #maximum of X array\n",
        "y = y/100 # maximum test score is 100\n",
        "\n",
        "class NeuralNetwork(object):\n",
        "    def __init__(self):\n",
        "        #parameters\n",
        "        self.inputSize = 2\n",
        "        self.outputSize = 1\n",
        "        self.hiddenSize = 3\n",
        "        \n",
        "        #weights\n",
        "        self.W1 = np.random.randn(self.inputSize, self.hiddenSize) # (3x2) weight matrix from input to hidden layer\n",
        "        self.W2 = np.random.randn(self.hiddenSize, self.outputSize) # (3x1) weight matrix from hidden to output layer\n",
        "        \n",
        "    def feedForward(self, X):\n",
        "        #forward propogation through the network\n",
        "        self.z = np.dot(X, self.W1) #dot product of X (input) and first set of weights (3x2)\n",
        "        self.z2 = self.sigmoid(self.z) #activation function\n",
        "        self.z3 = np.dot(self.z2, self.W2) #dot product of hidden layer (z2) and second set of weights (3x1)\n",
        "        output = self.sigmoid(self.z3)\n",
        "        return output\n",
        "        \n",
        "    def sigmoid(self, s, deriv=False):\n",
        "        if (deriv == True):\n",
        "            return s * (1 - s)\n",
        "        return 1/(1 + np.exp(-s))\n",
        "    \n",
        "    def backward(self, X, y, output):\n",
        "        #backward propogate through the network\n",
        "        self.output_error = y - output # error in output\n",
        "        self.output_delta = self.output_error * self.sigmoid(output, deriv=True)\n",
        "        \n",
        "        self.z2_error = self.output_delta.dot(self.W2.T) #z2 error: how much our hidden layer weights contribute to output error\n",
        "        self.z2_delta = self.z2_error * self.sigmoid(self.z2, deriv=True) #applying derivative of sigmoid to z2 error\n",
        "        \n",
        "        self.W1 += X.T.dot(self.z2_delta) # adjusting first set (input -> hidden) weights\n",
        "        self.W2 += self.z2.T.dot(self.output_delta) # adjusting second set (hidden -> output) weights\n",
        "        \n",
        "    def train(self, X, y):\n",
        "        output = self.feedForward(X)\n",
        "        self.backward(X, y, output)\n",
        "        \n",
        "NN = NeuralNetwork()\n",
        "\n",
        "for i in range(1000): #trains the NN 1000 times\n",
        "    if (i % 100 == 0):\n",
        "        print(\"Loss: \" + str(np.mean(np.square(y - NN.feedForward(X)))))\n",
        "    NN.train(X, y)\n",
        "        \n",
        "print(\"Input: \" + str(X))\n",
        "print(\"Actual Output: \" + str(y))\n",
        "print(\"Loss: \" + str(np.mean(np.square(y - NN.feedForward(X)))))\n",
        "print(\"\\n\")\n",
        "print(\"Predicted Output: \" + str(NN.feedForward(X)))"
      ]
    }
  ]
}